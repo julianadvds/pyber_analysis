{
 "cells": [
  {
   "cell_type": "code",
   "execution_count": 1,
   "id": "e38b7f3c",
   "metadata": {},
   "outputs": [],
   "source": [
    "#add Matplotlib inline magic command\n",
    "%matplotlib inline\n",
    "\n",
    "#dependencies and setup\n",
    "import matplotlib.pyplot as plt\n",
    "import pandas as pd\n"
   ]
  },
  {
   "cell_type": "code",
   "execution_count": 2,
   "id": "a2376ff6",
   "metadata": {},
   "outputs": [],
   "source": [
    "# Files to load\n",
    "city_data_to_load = \"Resources/city_data.csv\"\n",
    "ride_data_to_load = \"Resources/ride_data.csv\"\n",
    "\n",
    "\n",
    "\n"
   ]
  },
  {
   "cell_type": "code",
   "execution_count": 3,
   "id": "02c03d86",
   "metadata": {},
   "outputs": [],
   "source": [
    "#Read the city files\n",
    "city_data_df = pd.read_csv(city_data_to_load)\n",
    "# city_data_df.head(10)"
   ]
  },
  {
   "cell_type": "code",
   "execution_count": 4,
   "id": "41b19c8b",
   "metadata": {},
   "outputs": [],
   "source": [
    "#read the city files\n",
    "ride_data_df = pd.read_csv(ride_data_to_load)\n",
    "# ride_data_df.head(10)\n"
   ]
  },
  {
   "cell_type": "markdown",
   "id": "01280aaa",
   "metadata": {},
   "source": [
    "# 5.2.4 Explore the data in Pandas"
   ]
  },
  {
   "cell_type": "markdown",
   "id": "dad68e21",
   "metadata": {},
   "source": [
    "## Explore City Data"
   ]
  },
  {
   "cell_type": "code",
   "execution_count": 5,
   "id": "e6d70d4f",
   "metadata": {},
   "outputs": [
    {
     "data": {
      "text/plain": [
       "city            120\n",
       "driver_count    120\n",
       "type            120\n",
       "dtype: int64"
      ]
     },
     "execution_count": 5,
     "metadata": {},
     "output_type": "execute_result"
    }
   ],
   "source": [
    "#Get the columns and the rows that are not null\n",
    "city_data_df.count()"
   ]
  },
  {
   "cell_type": "code",
   "execution_count": 6,
   "id": "254675c6",
   "metadata": {},
   "outputs": [
    {
     "data": {
      "text/plain": [
       "city            0\n",
       "driver_count    0\n",
       "type            0\n",
       "dtype: int64"
      ]
     },
     "execution_count": 6,
     "metadata": {},
     "output_type": "execute_result"
    }
   ],
   "source": [
    "#makesure there are no nulls\n",
    "city_data_df.isnull().sum()"
   ]
  },
  {
   "cell_type": "code",
   "execution_count": 7,
   "id": "7483ab14",
   "metadata": {},
   "outputs": [
    {
     "data": {
      "text/plain": [
       "city            object\n",
       "driver_count     int64\n",
       "type            object\n",
       "dtype: object"
      ]
     },
     "execution_count": 7,
     "metadata": {},
     "output_type": "execute_result"
    }
   ],
   "source": [
    "city_data_df.dtypes"
   ]
  },
  {
   "cell_type": "code",
   "execution_count": 8,
   "id": "6189579e",
   "metadata": {},
   "outputs": [
    {
     "data": {
      "text/plain": [
       "array(['Urban', 'Suburban', 'Rural'], dtype=object)"
      ]
     },
     "execution_count": 8,
     "metadata": {},
     "output_type": "execute_result"
    }
   ],
   "source": [
    "# how many data points for each type of city\n",
    "city_data_df[\"type\"].unique()"
   ]
  },
  {
   "cell_type": "code",
   "execution_count": 9,
   "id": "8a057042",
   "metadata": {},
   "outputs": [
    {
     "name": "stdout",
     "output_type": "stream",
     "text": [
      "66\n",
      "18\n",
      "36\n"
     ]
    }
   ],
   "source": [
    "#Get the number of data points from the urban city\n",
    "print(sum(city_data_df[\"type\"] ==\"Urban\"))\n",
    "print(sum(city_data_df[\"type\"] ==\"Rural\"))\n",
    "print(sum(city_data_df[\"type\"] ==\"Suburban\"))"
   ]
  },
  {
   "cell_type": "markdown",
   "id": "4c96cc53",
   "metadata": {},
   "source": [
    "## Explore the Ride Data"
   ]
  },
  {
   "cell_type": "code",
   "execution_count": 10,
   "id": "ad1b9ef8",
   "metadata": {},
   "outputs": [
    {
     "data": {
      "text/plain": [
       "city       2375\n",
       "date       2375\n",
       "fare       2375\n",
       "ride_id    2375\n",
       "dtype: int64"
      ]
     },
     "execution_count": 10,
     "metadata": {},
     "output_type": "execute_result"
    }
   ],
   "source": [
    "#count the non-null rows\n",
    "ride_data_df.count()"
   ]
  },
  {
   "cell_type": "code",
   "execution_count": 11,
   "id": "aed0f4aa",
   "metadata": {},
   "outputs": [
    {
     "data": {
      "text/plain": [
       "city       0\n",
       "date       0\n",
       "fare       0\n",
       "ride_id    0\n",
       "dtype: int64"
      ]
     },
     "execution_count": 11,
     "metadata": {},
     "output_type": "execute_result"
    }
   ],
   "source": [
    "#see if there are any null-values\n",
    "ride_data_df.isnull().sum()"
   ]
  },
  {
   "cell_type": "code",
   "execution_count": 12,
   "id": "d32b6c44",
   "metadata": {},
   "outputs": [
    {
     "data": {
      "text/plain": [
       "city        object\n",
       "date        object\n",
       "fare       float64\n",
       "ride_id      int64\n",
       "dtype: object"
      ]
     },
     "execution_count": 12,
     "metadata": {},
     "output_type": "execute_result"
    }
   ],
   "source": [
    "#Get the data types of each column\n",
    "ride_data_df.dtypes"
   ]
  },
  {
   "cell_type": "markdown",
   "id": "a4c8a582",
   "metadata": {},
   "source": [
    "## Merge the Two Data Sets"
   ]
  },
  {
   "cell_type": "code",
   "execution_count": 13,
   "id": "c818bdab",
   "metadata": {},
   "outputs": [
    {
     "data": {
      "text/html": [
       "<div>\n",
       "<style scoped>\n",
       "    .dataframe tbody tr th:only-of-type {\n",
       "        vertical-align: middle;\n",
       "    }\n",
       "\n",
       "    .dataframe tbody tr th {\n",
       "        vertical-align: top;\n",
       "    }\n",
       "\n",
       "    .dataframe thead th {\n",
       "        text-align: right;\n",
       "    }\n",
       "</style>\n",
       "<table border=\"1\" class=\"dataframe\">\n",
       "  <thead>\n",
       "    <tr style=\"text-align: right;\">\n",
       "      <th></th>\n",
       "      <th>city</th>\n",
       "      <th>date</th>\n",
       "      <th>fare</th>\n",
       "      <th>ride_id</th>\n",
       "      <th>driver_count</th>\n",
       "      <th>type</th>\n",
       "    </tr>\n",
       "  </thead>\n",
       "  <tbody>\n",
       "    <tr>\n",
       "      <th>0</th>\n",
       "      <td>Lake Jonathanshire</td>\n",
       "      <td>2019-01-14 10:14:22</td>\n",
       "      <td>13.83</td>\n",
       "      <td>5739410935873</td>\n",
       "      <td>5</td>\n",
       "      <td>Urban</td>\n",
       "    </tr>\n",
       "    <tr>\n",
       "      <th>1</th>\n",
       "      <td>South Michelleport</td>\n",
       "      <td>2019-03-04 18:24:09</td>\n",
       "      <td>30.24</td>\n",
       "      <td>2343912425577</td>\n",
       "      <td>72</td>\n",
       "      <td>Urban</td>\n",
       "    </tr>\n",
       "    <tr>\n",
       "      <th>2</th>\n",
       "      <td>Port Samanthamouth</td>\n",
       "      <td>2019-02-24 04:29:00</td>\n",
       "      <td>33.44</td>\n",
       "      <td>2005065760003</td>\n",
       "      <td>57</td>\n",
       "      <td>Urban</td>\n",
       "    </tr>\n",
       "    <tr>\n",
       "      <th>3</th>\n",
       "      <td>Rodneyfort</td>\n",
       "      <td>2019-02-10 23:22:03</td>\n",
       "      <td>23.44</td>\n",
       "      <td>5149245426178</td>\n",
       "      <td>34</td>\n",
       "      <td>Urban</td>\n",
       "    </tr>\n",
       "    <tr>\n",
       "      <th>4</th>\n",
       "      <td>South Jack</td>\n",
       "      <td>2019-03-06 04:28:35</td>\n",
       "      <td>34.58</td>\n",
       "      <td>3908451377344</td>\n",
       "      <td>46</td>\n",
       "      <td>Urban</td>\n",
       "    </tr>\n",
       "    <tr>\n",
       "      <th>5</th>\n",
       "      <td>South Latoya</td>\n",
       "      <td>2019-03-11 12:26:48</td>\n",
       "      <td>9.52</td>\n",
       "      <td>1994999424437</td>\n",
       "      <td>10</td>\n",
       "      <td>Urban</td>\n",
       "    </tr>\n",
       "    <tr>\n",
       "      <th>6</th>\n",
       "      <td>New Paulville</td>\n",
       "      <td>2019-02-27 11:17:56</td>\n",
       "      <td>43.25</td>\n",
       "      <td>793208410091</td>\n",
       "      <td>44</td>\n",
       "      <td>Urban</td>\n",
       "    </tr>\n",
       "    <tr>\n",
       "      <th>7</th>\n",
       "      <td>Simpsonburgh</td>\n",
       "      <td>2019-04-26 00:43:24</td>\n",
       "      <td>35.98</td>\n",
       "      <td>111953927754</td>\n",
       "      <td>21</td>\n",
       "      <td>Urban</td>\n",
       "    </tr>\n",
       "    <tr>\n",
       "      <th>8</th>\n",
       "      <td>South Karenland</td>\n",
       "      <td>2019-01-08 03:28:48</td>\n",
       "      <td>35.09</td>\n",
       "      <td>7995623208694</td>\n",
       "      <td>4</td>\n",
       "      <td>Urban</td>\n",
       "    </tr>\n",
       "    <tr>\n",
       "      <th>9</th>\n",
       "      <td>North Jasmine</td>\n",
       "      <td>2019-03-09 06:26:29</td>\n",
       "      <td>42.81</td>\n",
       "      <td>5327642267789</td>\n",
       "      <td>33</td>\n",
       "      <td>Urban</td>\n",
       "    </tr>\n",
       "  </tbody>\n",
       "</table>\n",
       "</div>"
      ],
      "text/plain": [
       "                 city                 date   fare        ride_id  \\\n",
       "0  Lake Jonathanshire  2019-01-14 10:14:22  13.83  5739410935873   \n",
       "1  South Michelleport  2019-03-04 18:24:09  30.24  2343912425577   \n",
       "2  Port Samanthamouth  2019-02-24 04:29:00  33.44  2005065760003   \n",
       "3          Rodneyfort  2019-02-10 23:22:03  23.44  5149245426178   \n",
       "4          South Jack  2019-03-06 04:28:35  34.58  3908451377344   \n",
       "5        South Latoya  2019-03-11 12:26:48   9.52  1994999424437   \n",
       "6       New Paulville  2019-02-27 11:17:56  43.25   793208410091   \n",
       "7        Simpsonburgh  2019-04-26 00:43:24  35.98   111953927754   \n",
       "8     South Karenland  2019-01-08 03:28:48  35.09  7995623208694   \n",
       "9       North Jasmine  2019-03-09 06:26:29  42.81  5327642267789   \n",
       "\n",
       "   driver_count   type  \n",
       "0             5  Urban  \n",
       "1            72  Urban  \n",
       "2            57  Urban  \n",
       "3            34  Urban  \n",
       "4            46  Urban  \n",
       "5            10  Urban  \n",
       "6            44  Urban  \n",
       "7            21  Urban  \n",
       "8             4  Urban  \n",
       "9            33  Urban  "
      ]
     },
     "execution_count": 13,
     "metadata": {},
     "output_type": "execute_result"
    }
   ],
   "source": [
    "pyber_data_df = pd.merge(ride_data_df, city_data_df, \n",
    "                         how='left', \n",
    "                         on=['city', 'city'])\n",
    "pyber_data_df.head(10)"
   ]
  },
  {
   "cell_type": "markdown",
   "id": "2c3a5c4b",
   "metadata": {},
   "source": [
    "# 5.3.1 pick up"
   ]
  },
  {
   "cell_type": "code",
   "execution_count": 21,
   "id": "ecdbf786",
   "metadata": {},
   "outputs": [],
   "source": [
    "#Create the urbn city dataframe\n",
    "urban_cities_df = pyber_data_df[pyber_data_df[\"type\"] ==\"Urban\"]\n",
    "# urban_cities_df.head()\n"
   ]
  },
  {
   "cell_type": "code",
   "execution_count": 22,
   "id": "25f718b7",
   "metadata": {},
   "outputs": [],
   "source": [
    "#Creat suburban and rural cities dataFrames\n",
    "suburban_cities_df = pyber_data_df[pyber_data_df[\"type\"] ==\"Suburban\"]\n",
    "# suburban_cities_df.head()"
   ]
  },
  {
   "cell_type": "code",
   "execution_count": 23,
   "id": "c979f90c",
   "metadata": {},
   "outputs": [],
   "source": [
    "#Creat suburban and rural cities dataFrames\n",
    "rural_cities_df = pyber_data_df[pyber_data_df[\"type\"] ==\"Rural\"]\n",
    "# rural_cities_df.head()"
   ]
  },
  {
   "cell_type": "markdown",
   "id": "5ca87d24",
   "metadata": {},
   "source": [
    "# 5.3.2: get the number of rides for each city type"
   ]
  },
  {
   "cell_type": "code",
   "execution_count": 47,
   "id": "f5e6d1da",
   "metadata": {},
   "outputs": [],
   "source": [
    "#5.3.2: get the number of rides for each city type\n",
    "#Get the number of riders for urban cities\n",
    "urban_ride_count = urban_cities_df.groupby([\"city\"]).count()['ride_id']\n",
    "# Create the suburban and rural ride count.\n",
    "suburban_ride_count = suburban_cities_df.groupby([\"city\"]).count()[\"ride_id\"]\n",
    "\n",
    "rural_ride_count = rural_cities_df.groupby([\"city\"]).count()[\"ride_id\"]\n"
   ]
  },
  {
   "cell_type": "markdown",
   "id": "3f7f1924",
   "metadata": {},
   "source": [
    "# 5.3.3 get the average fare for each city type"
   ]
  },
  {
   "cell_type": "code",
   "execution_count": 48,
   "id": "28b4057d",
   "metadata": {},
   "outputs": [],
   "source": [
    "#get the average fare for each city in the urban cities\n",
    "urban_avg_fare = urban_cities_df.groupby([\"city\"]).mean()[\"fare\"]\n",
    "suburban_avg_fare = suburban_cities_df.groupby([\"city\"]).mean()[\"fare\"]\n",
    "rural_avg_fare = rural_cities_df.groupby([\"city\"]).mean()[\"fare\"]"
   ]
  },
  {
   "cell_type": "markdown",
   "id": "0eb36b4b",
   "metadata": {},
   "source": [
    "# 5.3.4 get the average number of drivers for each city type"
   ]
  },
  {
   "cell_type": "code",
   "execution_count": 49,
   "id": "eed1cd49",
   "metadata": {},
   "outputs": [],
   "source": [
    "# Get the average number of drivers for each urban city.\n",
    "urban_driver_count = urban_cities_df.groupby([\"city\"]).mean()[\"driver_count\"]\n",
    "suburban_driver_count = suburban_cities_df.groupby([\"city\"]).mean()[\"driver_count\"]\n",
    "rural_driver_count = rural_cities_df.groupby([\"city\"]).mean()[\"driver_count\"]\n"
   ]
  },
  {
   "cell_type": "markdown",
   "id": "20101006",
   "metadata": {},
   "source": [
    "# 5.3.5 Create bubble charts"
   ]
  },
  {
   "cell_type": "code",
   "execution_count": 68,
   "id": "73d27614",
   "metadata": {},
   "outputs": [],
   "source": [
    "# #build the scatter plot for urban cities\n",
    "# # Build the scatter plots for urban cities.\n",
    "# plt.scatter(urban_ride_count,\n",
    "#       urban_avg_fare,\n",
    "#       s=(urban_driver_count*10),\n",
    "#       c='coral',\n",
    "#       edgecolor='k', label='Urban',\n",
    "#       alpha=0.8, linewidths=1)\n",
    "# plt.title(\"Pyber Ride-Sharing Data (2019)\")\n",
    "# plt.ylabel(\"Average Fare ($)\")\n",
    "# plt.xlabel(\"Total Number of Rides (per City)\")\n",
    "# plt.grid(True)\n",
    "\n",
    "# #add the legend\n",
    "# plt.legend()"
   ]
  },
  {
   "cell_type": "code",
   "execution_count": 67,
   "id": "9d84c3e5",
   "metadata": {},
   "outputs": [],
   "source": [
    "# # Build the scatter plots for suburban cities.\n",
    "# plt.scatter(suburban_ride_count,\n",
    "#       suburban_avg_fare,\n",
    "#       s=10*suburban_driver_count, c=\"skyblue\",\n",
    "#       edgecolor=\"black\", linewidths=1,\n",
    "#       alpha=0.8, label=\"Suburban\")\n",
    "# plt.title(\"PyBer Ride-Sharing Data (2019)\")\n",
    "# plt.ylabel(\"Average Fare ($)\")\n",
    "# plt.xlabel(\"Total Number of Rides (Per City)\")\n",
    "# plt.grid(True)\n",
    "# # Add the legend.\n",
    "# plt.legend()"
   ]
  },
  {
   "cell_type": "code",
   "execution_count": 66,
   "id": "49d03bb9",
   "metadata": {},
   "outputs": [],
   "source": [
    "# # Build the scatter plots for rural cities.\n",
    "# plt.scatter(rural_ride_count,\n",
    "#       rural_avg_fare,\n",
    "#       s=10*rural_driver_count, c=\"gold\",\n",
    "#       edgecolor=\"black\", linewidths=1,\n",
    "#       alpha=0.8, label=\"Rural\")\n",
    "# plt.title(\"PyBer Ride-Sharing Data (2019)\")\n",
    "# plt.ylabel(\"Average Fare ($)\")\n",
    "# plt.xlabel(\"Total Number of Rides (Per City)\")\n",
    "# plt.grid(True)\n",
    "# # Add the legend.\n",
    "# plt.legend()"
   ]
  },
  {
   "cell_type": "code",
   "execution_count": 93,
   "id": "721c575c",
   "metadata": {},
   "outputs": [
    {
     "data": {
      "image/png": "[encoded data removed]",
      "text/plain": [
       "<Figure size 432x288 with 1 Axes>"
      ]
     },
     "metadata": {
      "needs_background": "light"
     },
     "output_type": "display_data"
    }
   ],
   "source": [
    "# Add the scatter charts for each type of city.\n",
    "plt.scatter(urban_ride_count,\n",
    "      urban_avg_fare,\n",
    "      s=10*urban_driver_count, c=\"coral\",\n",
    "      edgecolor=\"black\", linewidths=1,\n",
    "      alpha=0.8, label=\"Urban\")\n",
    "\n",
    "plt.scatter(suburban_ride_count,\n",
    "      suburban_avg_fare,\n",
    "      s=10*suburban_driver_count, c=\"skyblue\",\n",
    "      edgecolor=\"black\", linewidths=1,\n",
    "      alpha=0.8, label=\"Suburban\")\n",
    "\n",
    "plt.scatter(rural_ride_count,\n",
    "      rural_avg_fare,\n",
    "      s=10*rural_driver_count, c=\"gold\",\n",
    "      edgecolor=\"black\", linewidths=1,\n",
    "      alpha=0.8, label=\"Rural\")\n",
    "\n",
    "plt.title(\"PyBer Ride-Sharing Data (2019)\")\n",
    "plt.ylabel(\"Average Fare ($)\")\n",
    "plt.xlabel(\"Total Number of Rides (Per City)\")\n",
    "\n",
    "plt.grid(True)\n",
    "\n",
    "# Add the legend.\n",
    "lgnd = plt.legend(fontsize='12',mode=\"Expanded\",\n",
    "                 scatterpoints=1,loc='best', title=\"City types\")\n",
    "lgnd.legendHandles[0]._sizes = [75]\n",
    "lgnd.legendHandles[1]._sizes=[75]\n",
    "lgnd.legendHandles[2]._sizes=[75]\n",
    "lgnd.get_title().set_fontsize(12)\n",
    "\n",
    "# Incorporate a text label about circle size.\n",
    "plt.text(42, 35, \"Note: Circle size correlates with driver count per city.\", fontsize=\"12\")\n",
    "\n",
    "# Save the figure.\n",
    "plt.savefig(\"resources/Fig1.png\")\n",
    "\n",
    "# Show the plot\n",
    "plt.show()"
   ]
  },
  {
   "cell_type": "code",
   "execution_count": null,
   "id": "66d8a97d",
   "metadata": {},
   "outputs": [],
   "source": []
  },
  {
   "cell_type": "code",
   "execution_count": null,
   "id": "59fb26fd",
   "metadata": {},
   "outputs": [],
   "source": []
  }
 ],
 "metadata": {
  "kernelspec": {
   "display_name": "PythonData",
   "language": "python",
   "name": "pythondata"
  },
  "language_info": {
   "codemirror_mode": {
    "name": "ipython",
    "version": 3
   },
   "file_extension": ".py",
   "mimetype": "text/x-python",
   "name": "python",
   "nbconvert_exporter": "python",
   "pygments_lexer": "ipython3",
   "version": "3.7.10"
  }
 },
 "nbformat": 4,
 "nbformat_minor": 5
}
